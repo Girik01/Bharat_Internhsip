{
  "nbformat": 4,
  "nbformat_minor": 0,
  "metadata": {
    "colab": {
      "provenance": []
    },
    "kernelspec": {
      "name": "python3",
      "display_name": "Python 3"
    },
    "language_info": {
      "name": "python"
    }
  },
  "cells": [
    {
      "cell_type": "code",
      "source": [
        "import pandas as pd\n",
        "from sklearn.preprocessing import LabelEncoder\n",
        "from sklearn.impute import SimpleImputer\n",
        "from sklearn.linear_model import LogisticRegression\n",
        "\n",
        "# Load the Titanic dataset\n",
        "data = pd.read_csv(\"titanic.csv\")\n",
        "\n",
        "# Data Preprocessing\n",
        "# Convert categorical variables to numerical using Label Encoding\n",
        "label_encoder = LabelEncoder()\n",
        "data['Sex'] = label_encoder.fit_transform(data['Sex'])\n",
        "data['Embarked'] = label_encoder.fit_transform(data['Embarked'].astype(str))\n",
        "\n",
        "# Handle missing values\n",
        "imputer = SimpleImputer(strategy='median')\n",
        "data['Age'] = imputer.fit_transform(data[['Age']])\n",
        "data['Embarked'] = imputer.fit_transform(data[['Embarked']])\n",
        "\n",
        "# Feature selection\n",
        "features = ['Pclass', 'Sex', 'Age', 'SibSp', 'Parch', 'Fare', 'Embarked']\n",
        "X = data[features]\n",
        "y = data['Survived']\n",
        "\n",
        "# Build and train the Logistic Regression model\n",
        "model = LogisticRegression()\n",
        "model.fit(X, y)\n",
        "\n",
        "# Input passenger details for prediction\n",
        "new_passenger = {\n",
        "    'Pclass': int(input(\"Enter passenger class (1, 2, or 3): \")),\n",
        "    'Sex': int(input(\"Enter passenger's sex (0 for male, 1 for female): \")),\n",
        "    'Age': float(input(\"Enter passenger's age: \")),\n",
        "    'SibSp': int(input(\"Enter number of siblings or spouses aboard: \")),\n",
        "    'Parch': int(input(\"Enter number of parents or children aboard: \")),\n",
        "    'Fare': float(input(\"Enter fare paid: \")),\n",
        "    'Embarked': int(input(\"Enter port of embarkation (0 for C, 1 for Q, 2 for S): \"))\n",
        "}\n",
        "\n",
        "# Convert input data to a DataFrame\n",
        "input_data = pd.DataFrame([new_passenger])\n",
        "\n",
        "# Make a prediction\n",
        "prediction = model.predict(input_data)\n",
        "\n",
        "if prediction[0] == 1:\n",
        "    print(\"The passenger is predicted to have survived.\")\n",
        "else:\n",
        "    print(\"The passenger is predicted not to have survived.\")\n"
      ],
      "metadata": {
        "colab": {
          "base_uri": "https://localhost:8080/"
        },
        "id": "3tNBmxw4xVCB",
        "outputId": "4fe0caaa-bcd4-42f5-de1b-968710930002"
      },
      "execution_count": 4,
      "outputs": [
        {
          "output_type": "stream",
          "name": "stdout",
          "text": [
            "Enter passenger class (1, 2, or 3): 3\n",
            "Enter passenger's sex (0 for male, 1 for female): 0\n",
            "Enter passenger's age: 25\n",
            "Enter number of siblings or spouses aboard: 1\n",
            "Enter number of parents or children aboard: 0\n",
            "Enter fare paid: 10\n",
            "Enter port of embarkation (0 for C, 1 for Q, 2 for S): 2\n",
            "The passenger is predicted to have survived.\n"
          ]
        }
      ]
    }
  ]
}